{
  "nbformat": 4,
  "nbformat_minor": 0,
  "metadata": {
    "kernelspec": {
      "display_name": "Python 3",
      "language": "python",
      "name": "python3"
    },
    "language_info": {
      "codemirror_mode": {
        "name": "ipython",
        "version": 3
      },
      "file_extension": ".py",
      "mimetype": "text/x-python",
      "name": "python",
      "nbconvert_exporter": "python",
      "pygments_lexer": "ipython3",
      "version": "3.7.6"
    },
    "colab": {
      "name": "cifar10.ipynb",
      "provenance": [],
      "include_colab_link": true
    }
  },
  "cells": [
    {
      "cell_type": "markdown",
      "metadata": {
        "id": "view-in-github",
        "colab_type": "text"
      },
      "source": [
        "<a href=\"https://colab.research.google.com/github/srirambandi/ai/blob/master/examples/cifar10.ipynb\" target=\"_parent\"><img src=\"https://colab.research.google.com/assets/colab-badge.svg\" alt=\"Open In Colab\"/></a>"
      ]
    },
    {
      "cell_type": "code",
      "metadata": {
        "id": "SNqiC_YpIObt",
        "colab_type": "code",
        "colab": {}
      },
      "source": [
        "# when running in colab notebooks, first install library\n",
        "!pip install import-ai\n",
        "# upload respective dataset manually from examples directory of the library or download as below\n",
        "!apt install subversion\n",
        "!svn checkout https://github.com/srirambandi/ai/trunk/examples/CIFAR10"
      ],
      "execution_count": 0,
      "outputs": []
    },
    {
      "cell_type": "code",
      "metadata": {
        "id": "K2X6Pi6cINI8",
        "colab_type": "code",
        "colab": {}
      },
      "source": [
        "import ai\n",
        "import numpy as np"
      ],
      "execution_count": 0,
      "outputs": []
    },
    {
      "cell_type": "code",
      "metadata": {
        "id": "a7ipbls1INJD",
        "colab_type": "code",
        "colab": {}
      },
      "source": [
        "def unpickle(file):\n",
        "    import pickle\n",
        "    with open(file, 'rb') as fo:\n",
        "        dict = pickle.load(fo, encoding='bytes')\n",
        "    return dict"
      ],
      "execution_count": 0,
      "outputs": []
    },
    {
      "cell_type": "code",
      "metadata": {
        "id": "Uo-KJvHMINJH",
        "colab_type": "code",
        "colab": {}
      },
      "source": [
        "train_file = 'CIFAR10/data_batch_'\n",
        "test_file = 'CIFAR10/test_batch'"
      ],
      "execution_count": 0,
      "outputs": []
    },
    {
      "cell_type": "code",
      "metadata": {
        "id": "Gxg8IwmuIS8-",
        "colab_type": "code",
        "colab": {}
      },
      "source": [
        "ai.manual_seed(2357)"
      ],
      "execution_count": 0,
      "outputs": []
    },
    {
      "cell_type": "code",
      "metadata": {
        "id": "CMdyCyrXINJK",
        "colab_type": "code",
        "colab": {}
      },
      "source": [
        "class CIFAR10(ai.Module):\n",
        "    def __init__(self):\n",
        "        self.conv1 = ai.Conv2d(3, 32, kernel_size=3, stride=1, padding=1)\n",
        "        self.conv2 = ai.Conv2d(32, 32, kernel_size=3, stride=1)\n",
        "        self.conv3 = ai.Conv2d(32, 64, kernel_size=3, stride=1, padding=1)\n",
        "        self.conv4 = ai.Conv2d(64, 64, kernel_size=3)\n",
        "        self.fc1 = ai.Linear(2304, 512)\n",
        "        self.fc2 = ai.Linear(512, 10)\n",
        "        \n",
        "    def forward(self, x):\n",
        "        o1 = ai.G.relu(self.conv1.forward(x))\n",
        "        o2 = ai.G.relu(self.conv2.forward(o1))\n",
        "        o3 = ai.G.dropout(ai.G.maxpool2d(o2), p=0.75)\n",
        "        o4 = ai.G.relu(self.conv3.forward(o3))\n",
        "        o5 = ai.G.relu(self.conv4.forward(o4))\n",
        "        o6 = ai.G.dropout(ai.G.maxpool2d(o5), p=0.75)\n",
        "        o7 = ai.G.dropout(ai.G.relu(self.fc1.forward(o6)), p=0.5)\n",
        "        o8 = ai.G.softmax(self.fc2.forward(o7))\n",
        "        return o8"
      ],
      "execution_count": 0,
      "outputs": []
    },
    {
      "cell_type": "code",
      "metadata": {
        "id": "3De8RCy2INJR",
        "colab_type": "code",
        "colab": {
          "base_uri": "https://localhost:8080/",
          "height": 153
        },
        "outputId": "175b6fe3-094b-46e9-f6b3-eb827b837c3f"
      },
      "source": [
        "cifar10 = CIFAR10()\n",
        "print(cifar10)"
      ],
      "execution_count": 20,
      "outputs": [
        {
          "output_type": "stream",
          "text": [
            "CIFAR10(\n",
            "  conv1: Conv2d(3, 32, kernel_size=(3, 3), stride=(1, 1), padding=(1, 1), bias=True)\n",
            "  conv2: Conv2d(32, 32, kernel_size=(3, 3), stride=(1, 1), padding=(0, 0), bias=True)\n",
            "  conv3: Conv2d(32, 64, kernel_size=(3, 3), stride=(1, 1), padding=(1, 1), bias=True)\n",
            "  conv4: Conv2d(64, 64, kernel_size=(3, 3), stride=(1, 1), padding=(0, 0), bias=True)\n",
            "  fc1: Linear(input_features=2304, output_features=512, bias=True)\n",
            "  fc2: Linear(input_features=512, output_features=10, bias=True)\n",
            ")\n"
          ],
          "name": "stdout"
        }
      ]
    },
    {
      "cell_type": "code",
      "metadata": {
        "id": "8P08poM4INJV",
        "colab_type": "code",
        "colab": {}
      },
      "source": [
        "L = ai.Loss(loss_fn='CrossEntropyLoss')\n",
        "optim = ai.Optimizer(cifar10.parameters(), optim_fn='Adam', lr=1e-3)"
      ],
      "execution_count": 0,
      "outputs": []
    },
    {
      "cell_type": "code",
      "metadata": {
        "id": "4t9NWwf-INJZ",
        "colab_type": "code",
        "colab": {}
      },
      "source": [
        "it, epoch = 0, 0\n",
        "m = 128"
      ],
      "execution_count": 0,
      "outputs": []
    },
    {
      "cell_type": "code",
      "metadata": {
        "id": "zUTA2v4sINJi",
        "colab_type": "code",
        "colab": {}
      },
      "source": [
        "def evaluate():\n",
        "    ai.G.grad_mode = False\n",
        "    file = test_file\n",
        "    dict = unpickle(file)\n",
        "    inputs = dict[b'data']\n",
        "    outputs = dict[b'labels']\n",
        "    correct, total = 0, 0\n",
        "    test_m = m\n",
        "    for batch in range(int(len(outputs) / m)):\n",
        "        input = inputs[batch * test_m : (batch + 1) * test_m].reshape(test_m, 3, 32, 32) / 255\n",
        "        input =  np.stack([_ for _ in input], axis = -1)\n",
        "        output = np.array(outputs[batch * test_m : (batch + 1) * test_m])\n",
        "        scores = cifar10.forward(input)\n",
        "        preds = np.argmax(scores.data, axis=0)\n",
        "        correct += np.sum(np.equal(output, preds))\n",
        "        total += test_m\n",
        "    accuracy = float(correct / total)\n",
        "    ai.G.grad_mode = True\n",
        "    return accuracy"
      ],
      "execution_count": 0,
      "outputs": []
    },
    {
      "cell_type": "code",
      "metadata": {
        "id": "gc8KP6MhINJl",
        "colab_type": "code",
        "colab": {}
      },
      "source": [
        "while epoch < 5:\n",
        "    epoch += 1\n",
        "    it = 0\n",
        "    for set in range(1, 6):\n",
        "        print('Set #{} started.'.format(set))\n",
        "        dataset = train_file + str(set)\n",
        "        dict = unpickle(dataset)\n",
        "        inputs = dict[b'data']\n",
        "        outputs = dict[b'labels']\n",
        "        for batch in range(int(len(outputs) / m)):\n",
        "            input = inputs[batch * m : (batch + 1) * m].reshape(m, 3, 32, 32) / 255\n",
        "            input =  np.stack([_ for _ in input], axis = -1)\n",
        "            output = outputs[batch * m : (batch + 1) * m]\n",
        "            onehot = np.zeros((10, m))\n",
        "            for _ in range(m):\n",
        "                onehot[output[_], _] = 1.0\n",
        "            scores = cifar10.forward(input)\n",
        "            loss = L.loss(scores, onehot)\n",
        "            loss.backward()\n",
        "            optim.step()        # update parameters with optimization functions\n",
        "            optim.zero_grad()   # clearing the backprop list and resetting the gradients to zero\n",
        "            if it%25 == 0:\n",
        "                print('epoch: {}, iter: {}, loss: {}'.format(epoch, it, loss.data[0][0]))\n",
        "            it += 1\n",
        "    print('Epoch {} completed. Accuracy {:.2%} \\n'.format(epoch, evaluate()))"
      ],
      "execution_count": 0,
      "outputs": []
    },
    {
      "cell_type": "code",
      "metadata": {
        "id": "Y3-yzd7XINJo",
        "colab_type": "code",
        "colab": {}
      },
      "source": [
        "cifar10.save()"
      ],
      "execution_count": 0,
      "outputs": []
    }
  ]
}