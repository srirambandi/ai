{
  "nbformat": 4,
  "nbformat_minor": 0,
  "metadata": {
    "colab": {
      "name": "mnist.ipynb",
      "provenance": [],
      "include_colab_link": true
    },
    "kernelspec": {
      "display_name": "Python 3",
      "language": "python",
      "name": "python3"
    },
    "language_info": {
      "codemirror_mode": {
        "name": "ipython",
        "version": 3
      },
      "file_extension": ".py",
      "mimetype": "text/x-python",
      "name": "python",
      "nbconvert_exporter": "python",
      "pygments_lexer": "ipython3",
      "version": "3.7.6"
    }
  },
  "cells": [
    {
      "cell_type": "markdown",
      "metadata": {
        "id": "view-in-github",
        "colab_type": "text"
      },
      "source": [
        "<a href=\"https://colab.research.google.com/github/srirambandi/ai/blob/master/examples/mnist.ipynb\" target=\"_parent\"><img src=\"https://colab.research.google.com/assets/colab-badge.svg\" alt=\"Open In Colab\"/></a>"
      ]
    },
    {
      "cell_type": "code",
      "metadata": {
        "colab_type": "code",
        "id": "S9wN37im_Tfl",
        "colab": {}
      },
      "source": [
        "# when running in colab notebooks, first install library\n",
        "!pip install import-ai\n",
        "# upload respective dataset manually from examples directory of the library or download as below\n",
        "!apt install subversion\n",
        "!svn checkout https://github.com/srirambandi/ai/trunk/examples/MNIST"
      ],
      "execution_count": null,
      "outputs": []
    },
    {
      "cell_type": "code",
      "metadata": {
        "colab_type": "code",
        "id": "y8r53PDe_KrA",
        "colab": {}
      },
      "source": [
        "import ai\n",
        "import numpy as np"
      ],
      "execution_count": 2,
      "outputs": []
    },
    {
      "cell_type": "code",
      "metadata": {
        "colab_type": "code",
        "id": "R9bmOHys_KrI",
        "colab": {}
      },
      "source": [
        "def load_data(file):\n",
        "    dict = np.load(file, allow_pickle=True)\n",
        "    return dict"
      ],
      "execution_count": 3,
      "outputs": []
    },
    {
      "cell_type": "code",
      "metadata": {
        "colab_type": "code",
        "id": "tWAbbmR__KrP",
        "colab": {}
      },
      "source": [
        "train_file = 'MNIST/train.npy'\n",
        "test_file = 'MNIST/test.npy'"
      ],
      "execution_count": 4,
      "outputs": []
    },
    {
      "cell_type": "code",
      "metadata": {
        "colab_type": "code",
        "id": "NXtX27Iu_aWy",
        "colab": {}
      },
      "source": [
        "ai.manual_seed(2357)"
      ],
      "execution_count": 5,
      "outputs": []
    },
    {
      "cell_type": "code",
      "metadata": {
        "colab_type": "code",
        "id": "54Di43Ig_KrU",
        "colab": {}
      },
      "source": [
        "class MNIST(ai.Module):\n",
        "    def __init__(self):\n",
        "        self.conv1 = ai.Conv2d(1, 8, kernel_size=3, stride=1)\n",
        "        self.conv2 = ai.Conv2d(8, 16, kernel_size=3, stride=1)\n",
        "        self.pool = ai.Maxpool2d(kernel_size=2, stride=2)\n",
        "        self.drop1 = ai.Dropout(p=0.75)\n",
        "        self.fc1 = ai.Linear(2304, 128)\n",
        "        self.drop2 = ai.Dropout(p=0.5)\n",
        "        self.fc2 = ai.Linear(128, 10)\n",
        "        \n",
        "    def forward(self, x):\n",
        "        o1 = ai.G.relu(self.conv1(x))\n",
        "        o2 = ai.G.relu(self.conv2(o1))\n",
        "        o3 = self.drop1(self.pool(o2))\n",
        "        o4 = self.drop2(ai.G.relu(self.fc1(o3)))\n",
        "        o5 = ai.G.softmax(self.fc2(o4))\n",
        "        \n",
        "        return o5"
      ],
      "execution_count": 6,
      "outputs": []
    },
    {
      "cell_type": "code",
      "metadata": {
        "colab_type": "code",
        "id": "xJ-s6GKb_KrX",
        "colab": {
          "base_uri": "https://localhost:8080/",
          "height": 170
        },
        "outputId": "ad15298d-13e8-4ff9-aed6-bd4f174304fb"
      },
      "source": [
        "mnist = MNIST()\n",
        "print(mnist)"
      ],
      "execution_count": 7,
      "outputs": [
        {
          "output_type": "stream",
          "text": [
            "MNIST(\n",
            "  conv1: Conv2d(1, 8, kernel_size=(3, 3), stride=(1, 1), padding=(0, 0), bias=True)\n",
            "  conv2: Conv2d(8, 16, kernel_size=(3, 3), stride=(1, 1), padding=(0, 0), bias=True)\n",
            "  pool: Maxpool2d(kernel_size=(2, 2), stride=(2, 2), padding=(0, 0))\n",
            "  drop1: Dropout(p=0.75)\n",
            "  fc1: Linear(input_features=2304, output_features=128, bias=True)\n",
            "  drop2: Dropout(p=0.5)\n",
            "  fc2: Linear(input_features=128, output_features=10, bias=True)\n",
            ")\n"
          ],
          "name": "stdout"
        }
      ]
    },
    {
      "cell_type": "code",
      "metadata": {
        "colab_type": "code",
        "id": "CmbTmDIz_Krb",
        "colab": {}
      },
      "source": [
        "L = ai.Loss(loss_fn='CrossEntropyLoss')\n",
        "optim = ai.Optimizer(mnist.parameters(), optim_fn='Adadelta', lr=1e-3)"
      ],
      "execution_count": 8,
      "outputs": []
    },
    {
      "cell_type": "code",
      "metadata": {
        "colab_type": "code",
        "id": "zDcxEtCQ_Krf",
        "colab": {}
      },
      "source": [
        "train_dict = load_data(train_file)\n",
        "inputs = train_dict.item()['data']\n",
        "outputs = train_dict.item()['labels']\n",
        "del train_dict"
      ],
      "execution_count": null,
      "outputs": []
    },
    {
      "cell_type": "code",
      "metadata": {
        "colab_type": "code",
        "id": "1-0RMP7i_Krp",
        "colab": {}
      },
      "source": [
        "it, epoch = 0, 0\n",
        "m = 128"
      ],
      "execution_count": 10,
      "outputs": []
    },
    {
      "cell_type": "code",
      "metadata": {
        "colab_type": "code",
        "id": "jbv0nlzy_Krs",
        "colab": {}
      },
      "source": [
        "def evaluate():\n",
        "    ai.G.grad_mode = False\n",
        "    file = test_file\n",
        "    dict = load_data(file)\n",
        "    inputs = dict.item()['data']\n",
        "    outputs = dict.item()['labels']\n",
        "    correct, total = 0, 0\n",
        "    test_m = m\n",
        "    for batch in range(int(len(outputs) / m)):\n",
        "        input = inputs[batch * test_m : (batch + 1) * test_m].reshape(test_m, 1, 28, 28) / 255\n",
        "        input =  np.stack([_ for _ in input], axis = -1)\n",
        "        output = np.array(outputs[batch * test_m : (batch + 1) * test_m])\n",
        "        scores = mnist.forward(input)\n",
        "        preds = np.argmax(scores.data, axis=0)\n",
        "        correct += np.sum(np.equal(output, preds))\n",
        "        total += test_m\n",
        "    accuracy = float(correct / total)\n",
        "    ai.G.grad_mode = True\n",
        "    return accuracy"
      ],
      "execution_count": 11,
      "outputs": []
    },
    {
      "cell_type": "code",
      "metadata": {
        "colab_type": "code",
        "id": "ZlvHNr3M_Krw",
        "scrolled": true,
        "colab": {
          "base_uri": "https://localhost:8080/",
          "height": 1000
        },
        "outputId": "7faab361-5a62-425e-dfc8-782f405095fd"
      },
      "source": [
        "while epoch < 15:\n",
        "    epoch += 1\n",
        "    it = 0\n",
        "\n",
        "    for batch in range(int(len(outputs) / m)):\n",
        "    \n",
        "        input = inputs[batch * m : (batch + 1) * m].reshape(m, 1, 28, 28) / 255.\n",
        "        input =  np.stack([_ for _ in input], axis = -1)\n",
        "        output = outputs[batch * m : (batch + 1) * m]\n",
        "        onehot = np.zeros((10, m))\n",
        "        for _ in range(m):\n",
        "            onehot[output[_], _] = 1.0\n",
        "\n",
        "        scores = mnist.forward(input)\n",
        "        loss = L.loss(scores, onehot)\n",
        "        loss.backward()\n",
        "\n",
        "        optim.step()        # update parameters with optimization functions\n",
        "        optim.zero_grad()   # clearing the backprop list and resetting the gradients to zero\n",
        "\n",
        "        if it%50 == 0:\n",
        "            print('epoch: {}, iter: {}, loss: {}'.format(epoch, it, loss.data[0, 0]))\n",
        "        it += 1\n",
        "\n",
        "    print('Epoch {} completed. Accuracy: {:.2%} \\n'.format(epoch, evaluate()))"
      ],
      "execution_count": 12,
      "outputs": [
        {
          "output_type": "stream",
          "text": [
            "using Adadelta\n",
            "epoch: 1, iter: 0, loss: 2.3012260680220527\n",
            "epoch: 1, iter: 50, loss: 0.6679869887537331\n",
            "epoch: 1, iter: 100, loss: 0.4401506684320097\n",
            "epoch: 1, iter: 150, loss: 0.4883632865960655\n",
            "epoch: 1, iter: 200, loss: 0.25288718433194224\n",
            "epoch: 1, iter: 250, loss: 0.3267003642500389\n",
            "epoch: 1, iter: 300, loss: 0.25623870250947844\n",
            "epoch: 1, iter: 350, loss: 0.33838382493391467\n",
            "epoch: 1, iter: 400, loss: 0.21898741959533843\n",
            "epoch: 1, iter: 450, loss: 0.2885756179330047\n",
            "Epoch 1 completed. Accuracy: 95.90% \n",
            "\n",
            "epoch: 2, iter: 0, loss: 0.14540136723455022\n",
            "epoch: 2, iter: 50, loss: 0.2179695241457375\n",
            "epoch: 2, iter: 100, loss: 0.12919534264492227\n",
            "epoch: 2, iter: 150, loss: 0.17735789293460685\n",
            "epoch: 2, iter: 200, loss: 0.165407585434569\n",
            "epoch: 2, iter: 250, loss: 0.24592577568023366\n",
            "epoch: 2, iter: 300, loss: 0.16670144925039734\n",
            "epoch: 2, iter: 350, loss: 0.306696637449704\n",
            "epoch: 2, iter: 400, loss: 0.17189841723073077\n",
            "epoch: 2, iter: 450, loss: 0.22262930797638847\n",
            "Epoch 2 completed. Accuracy: 97.02% \n",
            "\n",
            "epoch: 3, iter: 0, loss: 0.17339769737058786\n",
            "epoch: 3, iter: 50, loss: 0.15557703769939346\n",
            "epoch: 3, iter: 100, loss: 0.15316961920149666\n",
            "epoch: 3, iter: 150, loss: 0.17126080217340206\n",
            "epoch: 3, iter: 200, loss: 0.1305593318724247\n",
            "epoch: 3, iter: 250, loss: 0.21004773610938368\n",
            "epoch: 3, iter: 300, loss: 0.10769969253979816\n",
            "epoch: 3, iter: 350, loss: 0.2215423266138644\n",
            "epoch: 3, iter: 400, loss: 0.14316924150831734\n",
            "epoch: 3, iter: 450, loss: 0.19233214709303928\n",
            "Epoch 3 completed. Accuracy: 97.42% \n",
            "\n",
            "epoch: 4, iter: 0, loss: 0.10948692568444235\n",
            "epoch: 4, iter: 50, loss: 0.15220108486787717\n",
            "epoch: 4, iter: 100, loss: 0.12264603590603307\n",
            "epoch: 4, iter: 150, loss: 0.13371901664063474\n",
            "epoch: 4, iter: 200, loss: 0.11274222601672709\n",
            "epoch: 4, iter: 250, loss: 0.1720158977782915\n",
            "epoch: 4, iter: 300, loss: 0.13089956981695516\n",
            "epoch: 4, iter: 350, loss: 0.2691686683041762\n",
            "epoch: 4, iter: 400, loss: 0.19808938813562363\n",
            "epoch: 4, iter: 450, loss: 0.20796982806226272\n",
            "Epoch 4 completed. Accuracy: 97.62% \n",
            "\n",
            "epoch: 5, iter: 0, loss: 0.07564958831370654\n",
            "epoch: 5, iter: 50, loss: 0.1489713947207345\n",
            "epoch: 5, iter: 100, loss: 0.10410643290153297\n",
            "epoch: 5, iter: 150, loss: 0.08720321116476402\n",
            "epoch: 5, iter: 200, loss: 0.12091849231454332\n",
            "epoch: 5, iter: 250, loss: 0.15727778802563935\n",
            "epoch: 5, iter: 300, loss: 0.13009556032905653\n",
            "epoch: 5, iter: 350, loss: 0.16284729543358525\n",
            "epoch: 5, iter: 400, loss: 0.1520532372801815\n",
            "epoch: 5, iter: 450, loss: 0.15408218051039219\n",
            "Epoch 5 completed. Accuracy: 97.83% \n",
            "\n",
            "epoch: 6, iter: 0, loss: 0.10386573848119904\n",
            "epoch: 6, iter: 50, loss: 0.184038970797599\n",
            "epoch: 6, iter: 100, loss: 0.05168334149624483\n",
            "epoch: 6, iter: 150, loss: 0.09797171422356271\n",
            "epoch: 6, iter: 200, loss: 0.09981527781224185\n",
            "epoch: 6, iter: 250, loss: 0.10611159457790512\n",
            "epoch: 6, iter: 300, loss: 0.11385059776317319\n",
            "epoch: 6, iter: 350, loss: 0.17975325167031886\n",
            "epoch: 6, iter: 400, loss: 0.18854871309659785\n",
            "epoch: 6, iter: 450, loss: 0.14059790943882305\n",
            "Epoch 6 completed. Accuracy: 98.02% \n",
            "\n",
            "epoch: 7, iter: 0, loss: 0.09137690173327526\n",
            "epoch: 7, iter: 50, loss: 0.08926413234417714\n",
            "epoch: 7, iter: 100, loss: 0.06944930032333775\n",
            "epoch: 7, iter: 150, loss: 0.17165414647371155\n",
            "epoch: 7, iter: 200, loss: 0.044979695303301113\n",
            "epoch: 7, iter: 250, loss: 0.09984808720181847\n",
            "epoch: 7, iter: 300, loss: 0.12666312376393776\n",
            "epoch: 7, iter: 350, loss: 0.17961150498622175\n",
            "epoch: 7, iter: 400, loss: 0.18903408849823486\n",
            "epoch: 7, iter: 450, loss: 0.23086284510493912\n",
            "Epoch 7 completed. Accuracy: 98.15% \n",
            "\n",
            "epoch: 8, iter: 0, loss: 0.15178829388649462\n",
            "epoch: 8, iter: 50, loss: 0.14286225952732337\n",
            "epoch: 8, iter: 100, loss: 0.09766462245368683\n",
            "epoch: 8, iter: 150, loss: 0.08756060321785523\n",
            "epoch: 8, iter: 200, loss: 0.09146630434708296\n",
            "epoch: 8, iter: 250, loss: 0.13181919018582405\n",
            "epoch: 8, iter: 300, loss: 0.12469927838540136\n",
            "epoch: 8, iter: 350, loss: 0.1644583488508717\n",
            "epoch: 8, iter: 400, loss: 0.21487006386015403\n",
            "epoch: 8, iter: 450, loss: 0.11171313188069348\n",
            "Epoch 8 completed. Accuracy: 98.19% \n",
            "\n",
            "epoch: 9, iter: 0, loss: 0.07368434831178222\n",
            "epoch: 9, iter: 50, loss: 0.10848238343794869\n",
            "epoch: 9, iter: 100, loss: 0.06322516806304004\n",
            "epoch: 9, iter: 150, loss: 0.12341739806050024\n",
            "epoch: 9, iter: 200, loss: 0.10810050592800213\n",
            "epoch: 9, iter: 250, loss: 0.08513894836511862\n",
            "epoch: 9, iter: 300, loss: 0.09040193599683377\n",
            "epoch: 9, iter: 350, loss: 0.14460430877342165\n",
            "epoch: 9, iter: 400, loss: 0.14862630514847497\n",
            "epoch: 9, iter: 450, loss: 0.14212728349534456\n",
            "Epoch 9 completed. Accuracy: 98.22% \n",
            "\n",
            "epoch: 10, iter: 0, loss: 0.08553268638715868\n",
            "epoch: 10, iter: 50, loss: 0.07206439779747166\n",
            "epoch: 10, iter: 100, loss: 0.05992156273989874\n",
            "epoch: 10, iter: 150, loss: 0.07425156667905206\n",
            "epoch: 10, iter: 200, loss: 0.05703835454204414\n",
            "epoch: 10, iter: 250, loss: 0.11029731802162342\n",
            "epoch: 10, iter: 300, loss: 0.11777756577004035\n",
            "epoch: 10, iter: 350, loss: 0.1782634655074847\n",
            "epoch: 10, iter: 400, loss: 0.14251504627164713\n",
            "epoch: 10, iter: 450, loss: 0.10842833419052808\n",
            "Epoch 10 completed. Accuracy: 98.29% \n",
            "\n",
            "epoch: 11, iter: 0, loss: 0.10184932668361554\n",
            "epoch: 11, iter: 50, loss: 0.06236707593466773\n",
            "epoch: 11, iter: 100, loss: 0.061459596861842894\n",
            "epoch: 11, iter: 150, loss: 0.07435547351402368\n",
            "epoch: 11, iter: 200, loss: 0.06481709466330089\n",
            "epoch: 11, iter: 250, loss: 0.13051669210249817\n",
            "epoch: 11, iter: 300, loss: 0.07033783598485276\n",
            "epoch: 11, iter: 350, loss: 0.134121532650645\n",
            "epoch: 11, iter: 400, loss: 0.1129185478845884\n",
            "epoch: 11, iter: 450, loss: 0.14974947591907095\n",
            "Epoch 11 completed. Accuracy: 98.29% \n",
            "\n",
            "epoch: 12, iter: 0, loss: 0.04853091738192514\n",
            "epoch: 12, iter: 50, loss: 0.09068373538760346\n",
            "epoch: 12, iter: 100, loss: 0.05655902742078616\n",
            "epoch: 12, iter: 150, loss: 0.07273748730290251\n",
            "epoch: 12, iter: 200, loss: 0.06942730551784869\n",
            "epoch: 12, iter: 250, loss: 0.12496769713089935\n",
            "epoch: 12, iter: 300, loss: 0.10445098568915857\n",
            "epoch: 12, iter: 350, loss: 0.0683751825506973\n",
            "epoch: 12, iter: 400, loss: 0.13675688653384496\n",
            "epoch: 12, iter: 450, loss: 0.10689422712504108\n",
            "Epoch 12 completed. Accuracy: 98.36% \n",
            "\n",
            "epoch: 13, iter: 0, loss: 0.05142394537425254\n",
            "epoch: 13, iter: 50, loss: 0.08150594303555432\n",
            "epoch: 13, iter: 100, loss: 0.05544239610520293\n",
            "epoch: 13, iter: 150, loss: 0.14678070501601684\n",
            "epoch: 13, iter: 200, loss: 0.08796539666959331\n",
            "epoch: 13, iter: 250, loss: 0.1047498457255204\n",
            "epoch: 13, iter: 300, loss: 0.08391952334652951\n",
            "epoch: 13, iter: 350, loss: 0.15289035889141434\n",
            "epoch: 13, iter: 400, loss: 0.14191674757048586\n",
            "epoch: 13, iter: 450, loss: 0.1412185994814642\n",
            "Epoch 13 completed. Accuracy: 98.50% \n",
            "\n",
            "epoch: 14, iter: 0, loss: 0.08955483330856981\n",
            "epoch: 14, iter: 50, loss: 0.18068732991851744\n",
            "epoch: 14, iter: 100, loss: 0.05615765255582773\n",
            "epoch: 14, iter: 150, loss: 0.049700865090342744\n",
            "epoch: 14, iter: 200, loss: 0.05020336010263058\n",
            "epoch: 14, iter: 250, loss: 0.11895983838499542\n",
            "epoch: 14, iter: 300, loss: 0.08387683163465413\n",
            "epoch: 14, iter: 350, loss: 0.027686287066061126\n",
            "epoch: 14, iter: 400, loss: 0.14605229543132212\n",
            "epoch: 14, iter: 450, loss: 0.07563420897181819\n",
            "Epoch 14 completed. Accuracy: 98.46% \n",
            "\n",
            "epoch: 15, iter: 0, loss: 0.059741215582997456\n",
            "epoch: 15, iter: 50, loss: 0.07191216509059209\n",
            "epoch: 15, iter: 100, loss: 0.060409419855186886\n",
            "epoch: 15, iter: 150, loss: 0.07787080421676158\n",
            "epoch: 15, iter: 200, loss: 0.07646892926981678\n",
            "epoch: 15, iter: 250, loss: 0.09750623311239856\n",
            "epoch: 15, iter: 300, loss: 0.06923527588692745\n",
            "epoch: 15, iter: 350, loss: 0.0924110996672806\n",
            "epoch: 15, iter: 400, loss: 0.17733079605311222\n",
            "epoch: 15, iter: 450, loss: 0.06782663043468001\n",
            "Epoch 15 completed. Accuracy: 98.51% \n",
            "\n"
          ],
          "name": "stdout"
        }
      ]
    },
    {
      "cell_type": "code",
      "metadata": {
        "colab_type": "code",
        "id": "7Gx1Ycbl_Kr1",
        "colab": {
          "base_uri": "https://localhost:8080/",
          "height": 51
        },
        "outputId": "92813cf6-2e63-4d56-dcab-5241b3ad68a5"
      },
      "source": [
        "mnist.save()"
      ],
      "execution_count": 13,
      "outputs": [
        {
          "output_type": "stream",
          "text": [
            "saving model...\n",
            "Successfully saved model in MNIST.npy\n"
          ],
          "name": "stdout"
        }
      ]
    }
  ]
}