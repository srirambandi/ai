{
  "nbformat": 4,
  "nbformat_minor": 0,
  "metadata": {
    "kernelspec": {
      "display_name": "Python 3",
      "language": "python",
      "name": "python3"
    },
    "language_info": {
      "codemirror_mode": {
        "name": "ipython",
        "version": 3
      },
      "file_extension": ".py",
      "mimetype": "text/x-python",
      "name": "python",
      "nbconvert_exporter": "python",
      "pygments_lexer": "ipython3",
      "version": "3.7.6"
    },
    "colab": {
      "name": "mnist.ipynb",
      "provenance": [],
      "include_colab_link": true
    },
    "accelerator": "GPU"
  },
  "cells": [
    {
      "cell_type": "markdown",
      "metadata": {
        "id": "view-in-github",
        "colab_type": "text"
      },
      "source": [
        "<a href=\"https://colab.research.google.com/github/srirambandi/ai/blob/master/examples/mnist.ipynb\" target=\"_parent\"><img src=\"https://colab.research.google.com/assets/colab-badge.svg\" alt=\"Open In Colab\"/></a>"
      ]
    },
    {
      "cell_type": "code",
      "metadata": {
        "id": "S9wN37im_Tfl",
        "colab_type": "code",
        "colab": {}
      },
      "source": [
        "# when running in colab notebooks, first install library\n",
        "!pip install import-ai\n",
        "# upload respective dataset manually from examples directory of the library or download as below\n",
        "!apt install subversion\n",
        "!svn checkout https://github.com/srirambandi/ai/trunk/examples/MNIST"
      ],
      "execution_count": 0,
      "outputs": []
    },
    {
      "cell_type": "code",
      "metadata": {
        "id": "y8r53PDe_KrA",
        "colab_type": "code",
        "colab": {}
      },
      "source": [
        "import ai\n",
        "import numpy as np"
      ],
      "execution_count": 0,
      "outputs": []
    },
    {
      "cell_type": "code",
      "metadata": {
        "id": "R9bmOHys_KrI",
        "colab_type": "code",
        "colab": {}
      },
      "source": [
        "def load_data(file):\n",
        "    dict = np.load(file, allow_pickle=True)\n",
        "    return dict"
      ],
      "execution_count": 0,
      "outputs": []
    },
    {
      "cell_type": "code",
      "metadata": {
        "id": "tWAbbmR__KrP",
        "colab_type": "code",
        "colab": {}
      },
      "source": [
        "train_file = 'MNIST/train.npy'\n",
        "test_file = 'MNIST/test.npy'"
      ],
      "execution_count": 0,
      "outputs": []
    },
    {
      "cell_type": "code",
      "metadata": {
        "id": "NXtX27Iu_aWy",
        "colab_type": "code",
        "colab": {}
      },
      "source": [
        "ai.manual_seed(2357)"
      ],
      "execution_count": 0,
      "outputs": []
    },
    {
      "cell_type": "code",
      "metadata": {
        "id": "54Di43Ig_KrU",
        "colab_type": "code",
        "colab": {}
      },
      "source": [
        "class MNIST(ai.Module):\n",
        "    def __init__(self):\n",
        "        self.conv1 = ai.Conv2d(1, 8, kernel_size=3, stride=1)\n",
        "        self.conv2 = ai.Conv2d(8, 16, kernel_size=3, stride=1)\n",
        "        self.fc1 = ai.Linear(2304, 128)\n",
        "        self.fc2 = ai.Linear(128, 10)\n",
        "        \n",
        "    def forward(self, x):\n",
        "        o1 = ai.G.relu(self.conv1.forward(x))\n",
        "        o2 = ai.G.relu(self.conv2.forward(o1))\n",
        "        o3 = ai.G.dropout(ai.G.maxpool2d(o2), p=0.75)\n",
        "        o4 = ai.G.dropout(ai.G.relu(self.fc1.forward(o3)), p=0.5)\n",
        "        o5 = self.fc2.forward(o4)\n",
        "        o6 = ai.G.softmax(o5)\n",
        "        return o6"
      ],
      "execution_count": 0,
      "outputs": []
    },
    {
      "cell_type": "code",
      "metadata": {
        "id": "xJ-s6GKb_KrX",
        "colab_type": "code",
        "colab": {
          "base_uri": "https://localhost:8080/",
          "height": 119
        },
        "outputId": "1464a8d6-fd12-490e-8a80-98f9fc6d916d"
      },
      "source": [
        "mnist = MNIST()\n",
        "print(mnist)"
      ],
      "execution_count": 7,
      "outputs": [
        {
          "output_type": "stream",
          "text": [
            "MNIST(\n",
            "  conv1: Conv2d(1, 8, kernel_size=(3, 3), stride=(1, 1), padding=(0, 0), bias=True)\n",
            "  conv2: Conv2d(8, 16, kernel_size=(3, 3), stride=(1, 1), padding=(0, 0), bias=True)\n",
            "  fc1: Linear(input_features=2304, output_features=128, bias=True)\n",
            "  fc2: Linear(input_features=128, output_features=10, bias=True)\n",
            ")\n"
          ],
          "name": "stdout"
        }
      ]
    },
    {
      "cell_type": "code",
      "metadata": {
        "id": "CmbTmDIz_Krb",
        "colab_type": "code",
        "colab": {}
      },
      "source": [
        "L = ai.Loss(loss_fn='CrossEntropyLoss')\n",
        "optim = ai.Optimizer(mnist.parameters(), optim_fn='Adadelta', lr=1e-3)"
      ],
      "execution_count": 0,
      "outputs": []
    },
    {
      "cell_type": "code",
      "metadata": {
        "id": "zDcxEtCQ_Krf",
        "colab_type": "code",
        "colab": {}
      },
      "source": [
        "train_dict = load_data(train_file)\n",
        "inputs = train_dict.item()['data']\n",
        "outputs = train_dict.item()['labels']\n",
        "del train_dict"
      ],
      "execution_count": 0,
      "outputs": []
    },
    {
      "cell_type": "code",
      "metadata": {
        "id": "1-0RMP7i_Krp",
        "colab_type": "code",
        "colab": {}
      },
      "source": [
        "it, epoch = 0, 0\n",
        "m = 32"
      ],
      "execution_count": 0,
      "outputs": []
    },
    {
      "cell_type": "code",
      "metadata": {
        "id": "jbv0nlzy_Krs",
        "colab_type": "code",
        "colab": {}
      },
      "source": [
        "def evaluate():\n",
        "    ai.G.grad_mode = False\n",
        "    file = test_file\n",
        "    dict = load_data(file)\n",
        "    inputs = dict.item()['data']\n",
        "    outputs = dict.item()['labels']\n",
        "    correct, total = 0, 0\n",
        "    test_m = m\n",
        "    for batch in range(int(len(outputs) / m)):\n",
        "        input = inputs[batch * test_m : (batch + 1) * test_m].reshape(test_m, 1, 28, 28) / 255\n",
        "        input =  np.stack([_ for _ in input], axis = -1)\n",
        "        output = np.array(outputs[batch * test_m : (batch + 1) * test_m])\n",
        "        scores = mnist.forward(input)\n",
        "        preds = np.argmax(scores.data, axis=0)\n",
        "        correct += np.sum(np.equal(output, preds))\n",
        "        total += test_m\n",
        "    accuracy = float(correct / total)\n",
        "    ai.G.grad_mode = True\n",
        "    return accuracy"
      ],
      "execution_count": 0,
      "outputs": []
    },
    {
      "cell_type": "code",
      "metadata": {
        "scrolled": true,
        "id": "ZlvHNr3M_Krw",
        "colab_type": "code",
        "colab": {
          "base_uri": "https://localhost:8080/",
          "height": 1000
        },
        "outputId": "28c490e0-3c3d-4667-8609-2f1023af7a41"
      },
      "source": [
        "while epoch < 5:\n",
        "    epoch += 1\n",
        "    it = 0\n",
        "    for batch in range(int(len(outputs) / m)):\n",
        "    # for batch in range(1):\n",
        "        input = inputs[batch * m : (batch + 1) * m].reshape(m, 1, 28, 28) / 255\n",
        "        input =  np.stack([_ for _ in input], axis = -1)\n",
        "        output = outputs[batch * m : (batch + 1) * m]\n",
        "        onehot = np.zeros((10, m))\n",
        "        for _ in range(m):\n",
        "            onehot[output[_], _] = 1.0\n",
        "        scores = mnist.forward(input)\n",
        "        loss = L.loss(scores, onehot)\n",
        "        loss.backward()\n",
        "        optim.step()        # update parameters with optimization functions\n",
        "        optim.zero_grad()   # clearing the backprop list and resetting the gradients to zero\n",
        "        if it%200 == 0:\n",
        "            print('epoch: {}, iter: {}, loss: {}'.format(epoch, it, loss.data[0, 0]))\n",
        "        it += 1\n",
        "    print('Epoch {} completed. Accuracy: {:.2%} \\n'.format(epoch, evaluate()))"
      ],
      "execution_count": 14,
      "outputs": [
        {
          "output_type": "stream",
          "text": [
            "using Adadelta\n",
            "epoch: 1, iter: 0, loss: 2.302586212396731\n",
            "epoch: 1, iter: 200, loss: 0.8452833435274807\n",
            "epoch: 1, iter: 400, loss: 0.48675433009436087\n",
            "epoch: 1, iter: 600, loss: 0.5731462378161541\n",
            "epoch: 1, iter: 800, loss: 0.44637560887625194\n",
            "epoch: 1, iter: 1000, loss: 0.4466284230957781\n",
            "epoch: 1, iter: 1200, loss: 0.3048754163203109\n",
            "epoch: 1, iter: 1400, loss: 0.3433880097138765\n",
            "epoch: 1, iter: 1600, loss: 0.4099125341902051\n",
            "epoch: 1, iter: 1800, loss: 0.2678943464255561\n",
            "Epoch 1 completed. Accuracy: 96.26% \n",
            "\n",
            "epoch: 2, iter: 0, loss: 0.29059928903375376\n",
            "epoch: 2, iter: 200, loss: 0.3469368531741681\n",
            "epoch: 2, iter: 400, loss: 0.11170598391884741\n",
            "epoch: 2, iter: 600, loss: 0.23386690407795332\n",
            "epoch: 2, iter: 800, loss: 0.1238355776138998\n",
            "epoch: 2, iter: 1000, loss: 0.34355749674182107\n",
            "epoch: 2, iter: 1200, loss: 0.33020103247860916\n",
            "epoch: 2, iter: 1400, loss: 0.14973103956750067\n",
            "epoch: 2, iter: 1600, loss: 0.10857856695796009\n",
            "epoch: 2, iter: 1800, loss: 0.2200284157458739\n",
            "Epoch 2 completed. Accuracy: 96.91% \n",
            "\n",
            "epoch: 3, iter: 0, loss: 0.08140290517126852\n",
            "epoch: 3, iter: 200, loss: 0.06562600770186072\n",
            "epoch: 3, iter: 400, loss: 0.1527308741810769\n",
            "epoch: 3, iter: 600, loss: 0.1576349343905743\n",
            "epoch: 3, iter: 800, loss: 0.06525566225616339\n",
            "epoch: 3, iter: 1000, loss: 0.42639840765713144\n",
            "epoch: 3, iter: 1200, loss: 0.15241352125378546\n",
            "epoch: 3, iter: 1400, loss: 0.03334161357140128\n",
            "epoch: 3, iter: 1600, loss: 0.19275145060145973\n",
            "epoch: 3, iter: 1800, loss: 0.2778288733703783\n",
            "Epoch 3 completed. Accuracy: 97.27% \n",
            "\n",
            "epoch: 4, iter: 0, loss: 0.18331710735979087\n",
            "epoch: 4, iter: 200, loss: 0.2930543064516212\n",
            "epoch: 4, iter: 400, loss: 0.14876341420415778\n",
            "epoch: 4, iter: 600, loss: 0.0888134071572057\n",
            "epoch: 4, iter: 800, loss: 0.1446336668472874\n",
            "epoch: 4, iter: 1000, loss: 0.1970738130706522\n",
            "epoch: 4, iter: 1200, loss: 0.12504172042952205\n",
            "epoch: 4, iter: 1400, loss: 0.07802966171213357\n",
            "epoch: 4, iter: 1600, loss: 0.3536258129804855\n",
            "epoch: 4, iter: 1800, loss: 0.3087700152243235\n",
            "Epoch 4 completed. Accuracy: 97.65% \n",
            "\n",
            "epoch: 5, iter: 0, loss: 0.16045224437486758\n",
            "epoch: 5, iter: 200, loss: 0.16174628996551724\n",
            "epoch: 5, iter: 400, loss: 0.015792558423395543\n",
            "epoch: 5, iter: 600, loss: 0.18288148597721585\n",
            "epoch: 5, iter: 800, loss: 0.04838359290965961\n",
            "epoch: 5, iter: 1000, loss: 0.2702087246233035\n",
            "epoch: 5, iter: 1200, loss: 0.09726214171740157\n",
            "epoch: 5, iter: 1400, loss: 0.11354713854042417\n",
            "epoch: 5, iter: 1600, loss: 0.1392030973616612\n",
            "epoch: 5, iter: 1800, loss: 0.23846347525981432\n",
            "Epoch 5 completed. Accuracy: 97.77% \n",
            "\n"
          ],
          "name": "stdout"
        }
      ]
    },
    {
      "cell_type": "code",
      "metadata": {
        "id": "7Gx1Ycbl_Kr1",
        "colab_type": "code",
        "colab": {
          "base_uri": "https://localhost:8080/",
          "height": 51
        },
        "outputId": "1b8a9695-4dbf-425d-943b-1edbe7e1ab07"
      },
      "source": [
        "mnist.save()"
      ],
      "execution_count": 15,
      "outputs": [
        {
          "output_type": "stream",
          "text": [
            "saving model...\n",
            "Successfully saved model in MNIST.npy\n"
          ],
          "name": "stdout"
        }
      ]
    }
  ]
}