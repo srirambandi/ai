{
 "cells": [
  {
   "cell_type": "code",
   "execution_count": null,
   "metadata": {},
   "outputs": [],
   "source": [
    "import ai\n",
    "import numpy as np"
   ]
  },
  {
   "cell_type": "code",
   "execution_count": null,
   "metadata": {},
   "outputs": [],
   "source": [
    "def load_data(file):\n",
    "    dict = np.load(file, allow_pickle=True)\n",
    "    return dict"
   ]
  },
  {
   "cell_type": "code",
   "execution_count": null,
   "metadata": {},
   "outputs": [],
   "source": [
    "train_file = 'MNIST/train.npy'\n",
    "test_file = 'MNIST/test.npy'"
   ]
  },
  {
   "cell_type": "code",
   "execution_count": null,
   "metadata": {},
   "outputs": [],
   "source": [
    "class MNIST(ai.Module):\n",
    "    def __init__(self):\n",
    "        self.conv1 = ai.Conv2d(1, 8, kernel_size=3, stride=1)\n",
    "        self.conv2 = ai.Conv2d(8, 16, kernel_size=3, stride=1)\n",
    "        self.fc1 = ai.Linear(2304, 128)\n",
    "        self.fc2 = ai.Linear(128, 10)\n",
    "        \n",
    "    def forward(self, x):\n",
    "        o1 = ai.G.relu(self.conv1.forward(x))\n",
    "        o2 = ai.G.relu(self.conv2.forward(o1))\n",
    "        o3 = ai.G.dropout(ai.G.maxpool2d(o2), p=0.75)\n",
    "        o4 = ai.G.dropout(ai.G.relu(self.fc1.forward(o3)), p=0.5)\n",
    "        o5 = self.fc2.forward(o4)\n",
    "        o6 = ai.G.softmax(o5)\n",
    "        return o6"
   ]
  },
  {
   "cell_type": "code",
   "execution_count": null,
   "metadata": {},
   "outputs": [],
   "source": [
    "mnist = MNIST()\n",
    "print(mnist)"
   ]
  },
  {
   "cell_type": "code",
   "execution_count": 17,
   "metadata": {},
   "outputs": [],
   "source": [
    "L = ai.Loss(loss_fn='CrossEntropyLoss')\n",
    "optim = ai.Optimizer(mnist.parameters(), optim_fn='Adadelta', lr=1e-3)"
   ]
  },
  {
   "cell_type": "code",
   "execution_count": 18,
   "metadata": {},
   "outputs": [],
   "source": [
    "train_dict = load_data(train_file)\n",
    "inputs = train_dict.item()['data']\n",
    "outputs = train_dict.item()['labels']"
   ]
  },
  {
   "cell_type": "code",
   "execution_count": 19,
   "metadata": {},
   "outputs": [],
   "source": [
    "del train_dict"
   ]
  },
  {
   "cell_type": "code",
   "execution_count": 20,
   "metadata": {},
   "outputs": [],
   "source": [
    "it, epoch = 0, 0\n",
    "loss = np.inf\n",
    "m = 8"
   ]
  },
  {
   "cell_type": "code",
   "execution_count": 21,
   "metadata": {},
   "outputs": [],
   "source": [
    "def evaluate():\n",
    "    ai.G.grad_mode = False\n",
    "    file = test_file\n",
    "    dict = load_data(file)\n",
    "    inputs = dict.item()['data']\n",
    "    outputs = dict.item()['labels']\n",
    "    correct, total = 0, 0\n",
    "    test_m = m\n",
    "    for batch in range(int(len(outputs) / m)):\n",
    "        input = inputs[batch * test_m : (batch + 1) * test_m].reshape(test_m, 1, 28, 28) / 255\n",
    "        input =  np.stack([_ for _ in input], axis = -1)\n",
    "        output = np.array(outputs[batch * test_m : (batch + 1) * test_m])\n",
    "        scores = mnist.forward(input)\n",
    "        preds = np.argmax(scores.data, axis=0)\n",
    "        correct += np.sum(np.equal(output, preds))\n",
    "        total += test_m\n",
    "    accuracy = float(correct / total)\n",
    "    ai.G.grad_mode = True\n",
    "    return accuracy"
   ]
  },
  {
   "cell_type": "code",
   "execution_count": null,
   "metadata": {
    "scrolled": true
   },
   "outputs": [],
   "source": [
    "while epoch < 10:\n",
    "    epoch += 1\n",
    "    it = 0\n",
    "    for batch in range(int(len(outputs) / m)):\n",
    "    # for batch in range(1):\n",
    "        input = inputs[batch * m : (batch + 1) * m].reshape(m, 1, 28, 28) / 255\n",
    "        input =  np.stack([_ for _ in input], axis = -1)\n",
    "        output = outputs[batch * m : (batch + 1) * m]\n",
    "        onehot = np.zeros((10, m))\n",
    "        for _ in range(m):\n",
    "            onehot[output[_], _] = 1.0\n",
    "        scores = mnist.forward(input)\n",
    "        loss = L.loss(scores, onehot)\n",
    "        loss.backward()\n",
    "        optim.step()        # update parameters with optimization functions\n",
    "        optim.zero_grad()   # clearing the backprop list and resetting the gradients to zero\n",
    "        if it%100 == 0:\n",
    "            print('epoch: {}, iter: {}, loss: {}'.format(epoch, it, loss.data[0, 0]))\n",
    "        it += 1\n",
    "    print('\\n\\n', 'Epoch {} completed. Accuracy: {}'.format(epoch, evaluate()))"
   ]
  },
  {
   "cell_type": "code",
   "execution_count": null,
   "metadata": {},
   "outputs": [],
   "source": [
    "# mnist.save()"
   ]
  }
 ],
 "metadata": {
  "kernelspec": {
   "display_name": "Python 3",
   "language": "python",
   "name": "python3"
  },
  "language_info": {
   "codemirror_mode": {
    "name": "ipython",
    "version": 3
   },
   "file_extension": ".py",
   "mimetype": "text/x-python",
   "name": "python",
   "nbconvert_exporter": "python",
   "pygments_lexer": "ipython3",
   "version": "3.7.6"
  }
 },
 "nbformat": 4,
 "nbformat_minor": 2
}
