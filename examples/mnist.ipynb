{
 "cells": [
  {
   "cell_type": "markdown",
   "metadata": {
    "colab_type": "text",
    "id": "view-in-github"
   },
   "source": [
    "<a href=\"https://colab.research.google.com/github/srirambandi/ai/blob/master/examples/mnist.ipynb\" target=\"_parent\"><img src=\"https://colab.research.google.com/assets/colab-badge.svg\" alt=\"Open In Colab\"/></a>"
   ]
  },
  {
   "cell_type": "code",
   "execution_count": null,
   "metadata": {
    "colab": {},
    "colab_type": "code",
    "id": "S9wN37im_Tfl"
   },
   "outputs": [],
   "source": [
    "# when running in colab notebooks, first install library\n",
    "!pip install import-ai\n",
    "# upload respective dataset manually from examples directory of the library or download as below\n",
    "!apt install subversion\n",
    "!svn checkout https://github.com/srirambandi/ai/trunk/examples/MNIST"
   ]
  },
  {
   "cell_type": "code",
   "execution_count": null,
   "metadata": {
    "colab": {},
    "colab_type": "code",
    "id": "y8r53PDe_KrA"
   },
   "outputs": [],
   "source": [
    "import ai\n",
    "import numpy as np"
   ]
  },
  {
   "cell_type": "code",
   "execution_count": null,
   "metadata": {
    "colab": {},
    "colab_type": "code",
    "id": "R9bmOHys_KrI"
   },
   "outputs": [],
   "source": [
    "def load_data(file):\n",
    "    dict = np.load(file, allow_pickle=True)\n",
    "    return dict"
   ]
  },
  {
   "cell_type": "code",
   "execution_count": null,
   "metadata": {
    "colab": {},
    "colab_type": "code",
    "id": "tWAbbmR__KrP"
   },
   "outputs": [],
   "source": [
    "train_file = 'MNIST/train.npy'\n",
    "test_file = 'MNIST/test.npy'"
   ]
  },
  {
   "cell_type": "code",
   "execution_count": null,
   "metadata": {
    "colab": {},
    "colab_type": "code",
    "id": "NXtX27Iu_aWy"
   },
   "outputs": [],
   "source": [
    "ai.manual_seed(2357)"
   ]
  },
  {
   "cell_type": "code",
   "execution_count": null,
   "metadata": {
    "colab": {},
    "colab_type": "code",
    "id": "54Di43Ig_KrU"
   },
   "outputs": [],
   "source": [
    "class MNIST(ai.Module):\n",
    "    def __init__(self):\n",
    "        self.conv1 = ai.Conv2d(1, 8, kernel_size=3, stride=1)\n",
    "        self.conv2 = ai.Conv2d(8, 16, kernel_size=3, stride=1)\n",
    "        self.pool1 = ai.Maxpool2d(kernel_size=2, stride=2)\n",
    "        self.drop1 = ai.Dropout(p=0.75)\n",
    "        self.fc1 = ai.Linear(2304, 128)\n",
    "        self.drop2 = ai.Dropout(p=0.5)\n",
    "        self.fc2 = ai.Linear(128, 10)\n",
    "        \n",
    "    def forward(self, x):\n",
    "        o1 = ai.G.relu(self.conv1(x))\n",
    "        o2 = ai.G.relu(self.conv2(o1))\n",
    "        o3 = self.drop1(self.pool1(o2))\n",
    "        o4 = self.drop2(ai.G.relu(self.fc1(o3)))\n",
    "        o5 = ai.G.softmax(self.fc2(o4))\n",
    "        \n",
    "        return o5"
   ]
  },
  {
   "cell_type": "code",
   "execution_count": null,
   "metadata": {
    "colab": {
     "base_uri": "https://localhost:8080/",
     "height": 119
    },
    "colab_type": "code",
    "id": "xJ-s6GKb_KrX",
    "outputId": "5cb82be5-8207-4947-cf0f-91536c0e6d66"
   },
   "outputs": [],
   "source": [
    "mnist = MNIST()\n",
    "print(mnist)"
   ]
  },
  {
   "cell_type": "code",
   "execution_count": null,
   "metadata": {
    "colab": {},
    "colab_type": "code",
    "id": "CmbTmDIz_Krb"
   },
   "outputs": [],
   "source": [
    "L = ai.Loss(loss_fn='CrossEntropyLoss')\n",
    "optim = ai.Optimizer(mnist.parameters(), optim_fn='Adadelta', lr=1e-3)"
   ]
  },
  {
   "cell_type": "code",
   "execution_count": null,
   "metadata": {
    "colab": {},
    "colab_type": "code",
    "id": "zDcxEtCQ_Krf"
   },
   "outputs": [],
   "source": [
    "train_dict = load_data(train_file)\n",
    "inputs = train_dict.item()['data']\n",
    "outputs = train_dict.item()['labels']\n",
    "del train_dict"
   ]
  },
  {
   "cell_type": "code",
   "execution_count": null,
   "metadata": {
    "colab": {},
    "colab_type": "code",
    "id": "1-0RMP7i_Krp"
   },
   "outputs": [],
   "source": [
    "it, epoch = 0, 0\n",
    "m = 128"
   ]
  },
  {
   "cell_type": "code",
   "execution_count": null,
   "metadata": {
    "colab": {},
    "colab_type": "code",
    "id": "jbv0nlzy_Krs"
   },
   "outputs": [],
   "source": [
    "def evaluate():\n",
    "    ai.G.grad_mode = False\n",
    "    file = test_file\n",
    "    dict = load_data(file)\n",
    "    inputs = dict.item()['data']\n",
    "    outputs = dict.item()['labels']\n",
    "    correct, total = 0, 0\n",
    "    test_m = m\n",
    "    for batch in range(int(len(outputs) / m)):\n",
    "        input = inputs[batch * test_m : (batch + 1) * test_m].reshape(test_m, 1, 28, 28) / 255\n",
    "        input =  np.stack([_ for _ in input], axis = -1)\n",
    "        output = np.array(outputs[batch * test_m : (batch + 1) * test_m])\n",
    "        scores = mnist.forward(input)\n",
    "        preds = np.argmax(scores.data, axis=0)\n",
    "        correct += np.sum(np.equal(output, preds))\n",
    "        total += test_m\n",
    "    accuracy = float(correct / total)\n",
    "    ai.G.grad_mode = True\n",
    "    return accuracy"
   ]
  },
  {
   "cell_type": "code",
   "execution_count": null,
   "metadata": {
    "colab": {
     "base_uri": "https://localhost:8080/",
     "height": 1000
    },
    "colab_type": "code",
    "id": "ZlvHNr3M_Krw",
    "outputId": "d6edb7a1-7370-4556-c8ca-a82dc7c91fde",
    "scrolled": true
   },
   "outputs": [],
   "source": [
    "while epoch < 15:\n",
    "    epoch += 1\n",
    "    it = 0\n",
    "    for batch in range(int(len(outputs) / m)):\n",
    "    # for batch in range(1):\n",
    "        input = inputs[batch * m : (batch + 1) * m].reshape(m, 1, 28, 28) / 255\n",
    "        input =  np.stack([_ for _ in input], axis = -1)\n",
    "        output = outputs[batch * m : (batch + 1) * m]\n",
    "        onehot = np.zeros((10, m))\n",
    "        for _ in range(m):\n",
    "            onehot[output[_], _] = 1.0\n",
    "        scores = mnist.forward(input)\n",
    "        loss = L.loss(scores, onehot)\n",
    "        loss.backward()\n",
    "        optim.step()        # update parameters with optimization functions\n",
    "        optim.zero_grad()   # clearing the backprop list and resetting the gradients to zero\n",
    "        if it%50 == 0:\n",
    "            print('epoch: {}, iter: {}, loss: {}'.format(epoch, it, loss.data[0, 0]))\n",
    "        it += 1\n",
    "    print('Epoch {} completed. Accuracy: {:.2%} \\n'.format(epoch, evaluate()))"
   ]
  },
  {
   "cell_type": "code",
   "execution_count": null,
   "metadata": {
    "colab": {
     "base_uri": "https://localhost:8080/",
     "height": 51
    },
    "colab_type": "code",
    "id": "7Gx1Ycbl_Kr1",
    "outputId": "968b40e6-3ad8-4463-cfd5-c086a44fa85f"
   },
   "outputs": [],
   "source": [
    "mnist.save()"
   ]
  }
 ],
 "metadata": {
  "colab": {
   "include_colab_link": true,
   "name": "mnist.ipynb",
   "provenance": []
  },
  "kernelspec": {
   "display_name": "Python 3",
   "language": "python",
   "name": "python3"
  },
  "language_info": {
   "codemirror_mode": {
    "name": "ipython",
    "version": 3
   },
   "file_extension": ".py",
   "mimetype": "text/x-python",
   "name": "python",
   "nbconvert_exporter": "python",
   "pygments_lexer": "ipython3",
   "version": "3.7.6"
  }
 },
 "nbformat": 4,
 "nbformat_minor": 1
}
